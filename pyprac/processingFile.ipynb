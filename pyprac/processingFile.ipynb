{
 "cells": [
  {
   "cell_type": "code",
   "execution_count": 1,
   "metadata": {},
   "outputs": [
    {
     "name": "stdout",
     "output_type": "stream",
     "text": [
      "Mohadesa Sharifi 29/01/1995\n"
     ]
    }
   ],
   "source": [
    "import sys\n",
    "\n",
    "def skipHeader(r):\n",
    "    \"\"\"Skip the header in reader r, and return the first real piece of data.\"\"\"\n",
    "    #read the description line and then comment lines. \n",
    "    line = r.readline()\n",
    "    line = r.readline()\n",
    "    while line.startswith('#'):\n",
    "        line = r.readline()\n",
    "    #Now line contains the first real piece of data.\n",
    "    return line\n",
    "def process_file(r):\n",
    "    \"\"\"read and print open reader r.\"\"\"\n",
    "    #find the first piece of data.\n",
    "    line = skipHeader(r).strip()\n",
    "    print(line)\n",
    "if __name__ == \"__main__\":\n",
    "    input_file = open(\"age.txt\", 'r')\n",
    "    process_file(input_file)\n",
    "    input_file.close()"
   ]
  },
  {
   "cell_type": "code",
   "execution_count": null,
   "metadata": {},
   "outputs": [],
   "source": []
  },
  {
   "cell_type": "code",
   "execution_count": 2,
   "metadata": {},
   "outputs": [
    {
     "name": "stdout",
     "output_type": "stream",
     "text": [
      "Mohadesa Sharifi 29/01/1995\n",
      "Ahsan Nazer 19/01/1988\n",
      "Ayat Khidiri 23/10/2018\n"
     ]
    }
   ],
   "source": [
    "l = []\n",
    "for line in open(\"age.txt\"):\n",
    "    li=line.strip()\n",
    "    if not li.startswith(\"#\"):\n",
    "        l.append(li)\n",
    "        print(li)"
   ]
  },
  {
   "cell_type": "code",
   "execution_count": 3,
   "metadata": {},
   "outputs": [
    {
     "name": "stdout",
     "output_type": "stream",
     "text": [
      "['Mohadesa Sharifi 29/01/1995', 'Ahsan Nazer 19/01/1988', 'Ayat Khidiri 23/10/2018']\n"
     ]
    }
   ],
   "source": [
    "print(l)"
   ]
  },
  {
   "cell_type": "code",
   "execution_count": 4,
   "metadata": {},
   "outputs": [],
   "source": [
    "firstNameM, lastNameM, dobM = l[0].split(\" \")"
   ]
  },
  {
   "cell_type": "code",
   "execution_count": 5,
   "metadata": {},
   "outputs": [],
   "source": [
    "firstNameA, lastNameA, dobA = l[1].split(\" \")"
   ]
  },
  {
   "cell_type": "code",
   "execution_count": 6,
   "metadata": {},
   "outputs": [],
   "source": [
    "firstNameAy, lastnameAy, dobAy = l[2].split(\" \")"
   ]
  },
  {
   "cell_type": "code",
   "execution_count": null,
   "metadata": {},
   "outputs": [],
   "source": []
  },
  {
   "cell_type": "code",
   "execution_count": 7,
   "metadata": {},
   "outputs": [],
   "source": [
    "dayM, monthM, yearM = dobM.split(\"/\")"
   ]
  },
  {
   "cell_type": "code",
   "execution_count": 8,
   "metadata": {},
   "outputs": [],
   "source": [
    "dayA, monthA, yearA = dobA.split(\"/\")"
   ]
  },
  {
   "cell_type": "code",
   "execution_count": 9,
   "metadata": {},
   "outputs": [],
   "source": [
    "dayAy, monthAy, yearAy = dobAy.split(\"/\")"
   ]
  },
  {
   "cell_type": "code",
   "execution_count": 10,
   "metadata": {},
   "outputs": [],
   "source": [
    "mohadesa_age = (2020-int(yearM)) +(1-int(monthM))/12. + (24-int(dayM))/365"
   ]
  },
  {
   "cell_type": "code",
   "execution_count": 11,
   "metadata": {},
   "outputs": [],
   "source": [
    "ahsan_age = (2020-int(yearA)) +(1-int(monthA))/12. + (24-int(dayA))/365"
   ]
  },
  {
   "cell_type": "code",
   "execution_count": 12,
   "metadata": {},
   "outputs": [],
   "source": [
    "ayat_age = (2020-int(yearAy)) +(1-int(monthAy))/12. + (24-int(dayAy))/365"
   ]
  },
  {
   "cell_type": "code",
   "execution_count": 13,
   "metadata": {},
   "outputs": [],
   "source": [
    "l1 = [mohadesa_age, ahsan_age, ayat_age]"
   ]
  },
  {
   "cell_type": "code",
   "execution_count": 14,
   "metadata": {},
   "outputs": [
    {
     "data": {
      "text/plain": [
       "['Mohadesa Sharifi 29/01/1995',\n",
       " 'Ahsan Nazer 19/01/1988',\n",
       " 'Ayat Khidiri 23/10/2018']"
      ]
     },
     "execution_count": 14,
     "metadata": {},
     "output_type": "execute_result"
    }
   ],
   "source": [
    "l"
   ]
  },
  {
   "cell_type": "code",
   "execution_count": 15,
   "metadata": {},
   "outputs": [
    {
     "data": {
      "text/plain": [
       "[24.986301369863014, 32.013698630136986, 1.2527397260273974]"
      ]
     },
     "execution_count": 15,
     "metadata": {},
     "output_type": "execute_result"
    }
   ],
   "source": [
    "l1"
   ]
  },
  {
   "cell_type": "code",
   "execution_count": 16,
   "metadata": {},
   "outputs": [
    {
     "name": "stdout",
     "output_type": "stream",
     "text": [
      "[32.013698630136986, 24.986301369863014, 1.2527397260273974]\n"
     ]
    }
   ],
   "source": [
    "for i in range(len(l1)-1):\n",
    "    a = i\n",
    "    b = i+1\n",
    "    if l1[b]>l1[a]:\n",
    "        c = l1[a]\n",
    "        l1[a] = l1[b]\n",
    "        l1[b] = c\n",
    "        \n",
    "print(l1)\n",
    "        \n",
    "        \n",
    "        "
   ]
  },
  {
   "cell_type": "code",
   "execution_count": 17,
   "metadata": {},
   "outputs": [],
   "source": [
    "dobM = mohadesa_age\n",
    "dobA = ahsan_age\n",
    "dobAy = ayat_age"
   ]
  },
  {
   "cell_type": "code",
   "execution_count": 18,
   "metadata": {},
   "outputs": [],
   "source": [
    "myTuple = [(firstNameM, lastNameM, mohadesa_age), (firstNameA, lastNameA, ahsan_age), (firstNameAy, lastnameAy, ayat_age)]"
   ]
  },
  {
   "cell_type": "code",
   "execution_count": null,
   "metadata": {},
   "outputs": [],
   "source": []
  },
  {
   "cell_type": "code",
   "execution_count": 26,
   "metadata": {},
   "outputs": [],
   "source": [
    "myTuple.append(('bola', 'gola', 21))"
   ]
  },
  {
   "cell_type": "code",
   "execution_count": 30,
   "metadata": {},
   "outputs": [],
   "source": [
    "myTuple.append(('karbalai', 'jan', -2))"
   ]
  },
  {
   "cell_type": "code",
   "execution_count": 31,
   "metadata": {},
   "outputs": [],
   "source": [
    "def sort_tuple(tup):\n",
    "    for i in range(0, len(tup)):\n",
    "        for j in range(0, len(tup)-i-1):\n",
    "            if (tup[j][2]>tup[j+1][2]):\n",
    "                temp = tup[j]  \n",
    "                tup[j]= tup[j + 1]  \n",
    "                tup[j + 1]= temp \n",
    "    return(tup)"
   ]
  },
  {
   "cell_type": "code",
   "execution_count": 32,
   "metadata": {},
   "outputs": [
    {
     "data": {
      "text/plain": [
       "[('karbalai', 'jan', -2),\n",
       " ('Ayat', 'Khidiri', 1.2527397260273974),\n",
       " ('bola', 'gola', 21),\n",
       " ('Mohadesa', 'Sharifi', 24.986301369863014),\n",
       " ('Ahsan', 'Nazer', 32.013698630136986)]"
      ]
     },
     "execution_count": 32,
     "metadata": {},
     "output_type": "execute_result"
    }
   ],
   "source": [
    "sort_tuple(myTuple.copy())"
   ]
  },
  {
   "cell_type": "code",
   "execution_count": null,
   "metadata": {},
   "outputs": [],
   "source": []
  },
  {
   "cell_type": "code",
   "execution_count": null,
   "metadata": {},
   "outputs": [],
   "source": []
  }
 ],
 "metadata": {
  "kernelspec": {
   "display_name": "Python 3",
   "language": "python",
   "name": "python3"
  },
  "language_info": {
   "codemirror_mode": {
    "name": "ipython",
    "version": 3
   },
   "file_extension": ".py",
   "mimetype": "text/x-python",
   "name": "python",
   "nbconvert_exporter": "python",
   "pygments_lexer": "ipython3",
   "version": "3.7.4"
  }
 },
 "nbformat": 4,
 "nbformat_minor": 2
}
