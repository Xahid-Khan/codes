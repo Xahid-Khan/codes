{
 "cells": [
  {
   "cell_type": "code",
   "execution_count": 1,
   "metadata": {},
   "outputs": [
    {
     "name": "stdout",
     "output_type": "stream",
     "text": [
      "Mohadesa Sharifi 29/01/1995\n"
     ]
    }
   ],
   "source": [
    "import sys\n",
    "\n",
    "def skipHeader(r):\n",
    "    \"\"\"Skip the header in reader r, and return the first real piece of data.\"\"\"\n",
    "    #read the description line and then comment lines. \n",
    "    line = r.readline()\n",
    "    line = r.readline()\n",
    "    while line.startswith('#'):\n",
    "        line = r.readline()\n",
    "    #Now line contains the first real piece of data.\n",
    "    return line\n",
    "def process_file(r):\n",
    "    \"\"\"read and print open reader r.\"\"\"\n",
    "    #find the first piece of data.\n",
    "    line = skipHeader(r).strip()\n",
    "    print(line)\n",
    "if __name__ == \"__main__\":\n",
    "    input_file = open(\"age.txt\", 'r')\n",
    "    process_file(input_file)\n",
    "    input_file.close()"
   ]
  },
  {
   "cell_type": "code",
   "execution_count": null,
   "metadata": {},
   "outputs": [],
   "source": []
  },
  {
   "cell_type": "code",
   "execution_count": 2,
   "metadata": {},
   "outputs": [
    {
     "name": "stdout",
     "output_type": "stream",
     "text": [
      "Mohadesa Sharifi 29/01/1995\n",
      "Ahsan Nazer 19/01/1988\n",
      "Ayat Khidiri 23/10/2018\n"
     ]
    }
   ],
   "source": [
    "l = []\n",
    "for line in open(\"age.txt\"):\n",
    "    li=line.strip()\n",
    "    if not li.startswith(\"#\"):\n",
    "        l.append(li)\n",
    "        print(li)"
   ]
  },
  {
   "cell_type": "code",
   "execution_count": 3,
   "metadata": {},
   "outputs": [
    {
     "name": "stdout",
     "output_type": "stream",
     "text": [
      "['Mohadesa Sharifi 29/01/1995', 'Ahsan Nazer 19/01/1988', 'Ayat Khidiri 23/10/2018']\n"
     ]
    }
   ],
   "source": [
    "print(l)"
   ]
  },
  {
   "cell_type": "code",
   "execution_count": 35,
   "metadata": {},
   "outputs": [],
   "source": [
    "def sort_tuple(tup):\n",
    "    for i in l:\n",
    "        a = i.split(\" \")\n",
    "        dob_dmy = a[2].split(\"/\")\n",
    "        age = [(2020 - int(dob_dmy[2])) + (1 - int(dob_dmy[1]))/12 + (24 - int(dob_dmy[0]))/365]\n",
    "        tup = [(a[0], a[1], age)]\n",
    "        print (tup)\n",
    "        for k in range(0, len(tup)):\n",
    "            for j in range(0, len(tup)-k-1):\n",
    "                if (tup[j][2]>tup[j+1][2]):\n",
    "                    temp = tup[j]  \n",
    "                    tup[j]= tup[j + 1]  \n",
    "                    tup[j + 1]= temp\n",
    "    return(tup)   \n",
    "       \n",
    "    "
   ]
  },
  {
   "cell_type": "code",
   "execution_count": 36,
   "metadata": {},
   "outputs": [
    {
     "name": "stdout",
     "output_type": "stream",
     "text": [
      "[('Mohadesa', 'Sharifi', [24.986301369863014])]\n",
      "[('Ahsan', 'Nazer', [32.013698630136986])]\n",
      "[('Ayat', 'Khidiri', [1.2527397260273974])]\n"
     ]
    },
    {
     "data": {
      "text/plain": [
       "[('Ayat', 'Khidiri', [1.2527397260273974])]"
      ]
     },
     "execution_count": 36,
     "metadata": {},
     "output_type": "execute_result"
    }
   ],
   "source": [
    "sort_tuple(tup)"
   ]
  },
  {
   "cell_type": "code",
   "execution_count": null,
   "metadata": {},
   "outputs": [],
   "source": [
    " "
   ]
  },
  {
   "cell_type": "code",
   "execution_count": null,
   "metadata": {},
   "outputs": [],
   "source": []
  },
  {
   "cell_type": "code",
   "execution_count": 42,
   "metadata": {},
   "outputs": [
    {
     "name": "stdout",
     "output_type": "stream",
     "text": [
      "[('Mohadesa', 'Sharifi', [24.986301369863014])]\n",
      "[('Ahsan', 'Nazer', [32.013698630136986])]\n",
      "[('Ayat', 'Khidiri', [1.2527397260273974])]\n"
     ]
    }
   ],
   "source": [
    "class Tup:\n",
    "    def __init__(self, l):\n",
    "        self.l = l\n",
    "    def age(self):\n",
    "        for i in self.l:\n",
    "            a = i.split(\" \")\n",
    "            dob_dmy = a[2].split(\"/\")\n",
    "            age = [(2020 - int(dob_dmy[2])) + (1 - int(dob_dmy[1]))/12 + (24 - int(dob_dmy[0]))/365]\n",
    "            tup = [(a[0], a[1], age)]\n",
    "            print(tup)\n",
    "l1 = Tup(l)\n",
    "l1.age()\n",
    "    "
   ]
  },
  {
   "cell_type": "code",
   "execution_count": 43,
   "metadata": {},
   "outputs": [
    {
     "data": {
      "text/plain": [
       "[('Ayat', 'Khidiri', [1.2527397260273974])]"
      ]
     },
     "execution_count": 43,
     "metadata": {},
     "output_type": "execute_result"
    }
   ],
   "source": [
    "class Sort(Tup):\n",
    "    def sort_tuple(self, tup):\n",
    "        for i in range(0, len(tup)):\n",
    "            for j in range(0, len(tup)-i-1):\n",
    "                if (tup[j][2]>tup[j+1][2]):\n",
    "                    temp = tup[j]  \n",
    "                    tup[j]= tup[j + 1]  \n",
    "                    tup[j + 1]= temp \n",
    "        return(tup)\n",
    "sorted_list = Sort(Tup)\n",
    "sorted_list.sort_tuple(tup)\n",
    "    "
   ]
  },
  {
   "cell_type": "code",
   "execution_count": null,
   "metadata": {},
   "outputs": [],
   "source": []
  },
  {
   "cell_type": "code",
   "execution_count": null,
   "metadata": {},
   "outputs": [],
   "source": []
  },
  {
   "cell_type": "code",
   "execution_count": null,
   "metadata": {},
   "outputs": [],
   "source": []
  },
  {
   "cell_type": "code",
   "execution_count": null,
   "metadata": {},
   "outputs": [],
   "source": []
  },
  {
   "cell_type": "code",
   "execution_count": null,
   "metadata": {},
   "outputs": [],
   "source": []
  },
  {
   "cell_type": "code",
   "execution_count": null,
   "metadata": {},
   "outputs": [],
   "source": []
  },
  {
   "cell_type": "code",
   "execution_count": null,
   "metadata": {},
   "outputs": [],
   "source": []
  },
  {
   "cell_type": "code",
   "execution_count": null,
   "metadata": {},
   "outputs": [],
   "source": []
  },
  {
   "cell_type": "code",
   "execution_count": null,
   "metadata": {},
   "outputs": [],
   "source": [
    "\n",
    "        \n",
    "        "
   ]
  },
  {
   "cell_type": "code",
   "execution_count": null,
   "metadata": {},
   "outputs": [],
   "source": []
  },
  {
   "cell_type": "code",
   "execution_count": null,
   "metadata": {},
   "outputs": [],
   "source": []
  },
  {
   "cell_type": "code",
   "execution_count": null,
   "metadata": {},
   "outputs": [],
   "source": []
  },
  {
   "cell_type": "code",
   "execution_count": null,
   "metadata": {},
   "outputs": [],
   "source": []
  },
  {
   "cell_type": "code",
   "execution_count": null,
   "metadata": {},
   "outputs": [],
   "source": []
  },
  {
   "cell_type": "code",
   "execution_count": null,
   "metadata": {},
   "outputs": [],
   "source": []
  },
  {
   "cell_type": "code",
   "execution_count": null,
   "metadata": {},
   "outputs": [],
   "source": []
  },
  {
   "cell_type": "code",
   "execution_count": null,
   "metadata": {},
   "outputs": [],
   "source": []
  },
  {
   "cell_type": "code",
   "execution_count": null,
   "metadata": {},
   "outputs": [],
   "source": []
  }
 ],
 "metadata": {
  "kernelspec": {
   "display_name": "Python 3",
   "language": "python",
   "name": "python3"
  },
  "language_info": {
   "codemirror_mode": {
    "name": "ipython",
    "version": 3
   },
   "file_extension": ".py",
   "mimetype": "text/x-python",
   "name": "python",
   "nbconvert_exporter": "python",
   "pygments_lexer": "ipython3",
   "version": "3.7.4"
  }
 },
 "nbformat": 4,
 "nbformat_minor": 2
}
