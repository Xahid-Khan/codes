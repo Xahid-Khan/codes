{
 "cells": [
  {
   "cell_type": "code",
   "execution_count": 10,
   "metadata": {},
   "outputs": [],
   "source": [
    " def my_function(a, b, c): \n",
    "     print(\"name: \", a , \", age: \", b, \"height: \", c) \n",
    "     return \n",
    "    "
   ]
  },
  {
   "cell_type": "code",
   "execution_count": 11,
   "metadata": {},
   "outputs": [
    {
     "name": "stdout",
     "output_type": "stream",
     "text": [
      "name:  ahsan , age:  35 height:  5.9\n"
     ]
    }
   ],
   "source": [
    "my_function(\"ahsan\", 35, 5.9)"
   ]
  },
  {
   "cell_type": "code",
   "execution_count": 62,
   "metadata": {},
   "outputs": [],
   "source": [
    "def fac(n):\n",
    "    k=1\n",
    "    for i in range(1,n+1):\n",
    "        #print(\"i=\", i, \", k=\", k, \"before\")\n",
    "        k=k*i\n",
    "        #print(\"i=\", i, \", k=\", k, \"after\")\n",
    "    return k\n",
    "        \n",
    "\n",
    "    \n"
   ]
  },
  {
   "cell_type": "code",
   "execution_count": 63,
   "metadata": {},
   "outputs": [
    {
     "data": {
      "text/plain": [
       "6"
      ]
     },
     "execution_count": 63,
     "metadata": {},
     "output_type": "execute_result"
    }
   ],
   "source": [
    "fac(3)"
   ]
  },
  {
   "cell_type": "code",
   "execution_count": 112,
   "metadata": {},
   "outputs": [],
   "source": [
    "def seriesExp(k, x):\n",
    "    seriesSum=0.\n",
    "    for i in range(0,k):\n",
    "        seriesSum=seriesSum+x**i/fac(i)\n",
    "        #print(i, fac(i), seriesSum, x**i/fac(i))\n",
    "    return seriesSum"
   ]
  },
  {
   "cell_type": "code",
   "execution_count": 123,
   "metadata": {},
   "outputs": [
    {
     "data": {
      "text/plain": [
       "442413.39200892043"
      ]
     },
     "execution_count": 123,
     "metadata": {},
     "output_type": "execute_result"
    }
   ],
   "source": [
    "seriesExp(1000,13)"
   ]
  },
  {
   "cell_type": "code",
   "execution_count": 115,
   "metadata": {},
   "outputs": [],
   "source": [
    "import numpy as np"
   ]
  },
  {
   "cell_type": "code",
   "execution_count": 116,
   "metadata": {},
   "outputs": [
    {
     "data": {
      "text/plain": [
       "442413.3920089205"
      ]
     },
     "execution_count": 116,
     "metadata": {},
     "output_type": "execute_result"
    }
   ],
   "source": [
    "np.exp(13.)"
   ]
  },
  {
   "cell_type": "code",
   "execution_count": 18,
   "metadata": {},
   "outputs": [
    {
     "ename": "SyntaxError",
     "evalue": "invalid token (<ipython-input-18-471b05b37f9a>, line 1)",
     "output_type": "error",
     "traceback": [
      "\u001b[0;36m  File \u001b[0;32m\"<ipython-input-18-471b05b37f9a>\"\u001b[0;36m, line \u001b[0;32m1\u001b[0m\n\u001b[0;31m    myTupple = [(\"Mohadesa Sharifi\", 29/01/1995), (\"Ahsan Nazer\", 19/01/1988), (\"Ayat Khidiri\", 23/10/2018)]\u001b[0m\n\u001b[0m                                         ^\u001b[0m\n\u001b[0;31mSyntaxError\u001b[0m\u001b[0;31m:\u001b[0m invalid token\n"
     ]
    }
   ],
   "source": [
    "myTupple = [(\"Mohadesa Sharifi\", 29/01/1995), (\"Ahsan Nazer\", 19/01/1988), (\"Ayat Khidiri\", 23/10/2018)]\n",
    "print(myTuple)"
   ]
  },
  {
   "cell_type": "code",
   "execution_count": 16,
   "metadata": {},
   "outputs": [
    {
     "name": "stdout",
     "output_type": "stream",
     "text": [
      "29/01/1995 5 ['29', '01', '1995'] 1995\n",
      "19/01/1988 8 ['19', '01', '1988'] 1988\n",
      "23/10/2018 8 ['23', '10', '2018'] 2018\n"
     ]
    }
   ],
   "source": [
    "for values in myDict.values():\n",
    "    nValues = values.split(\"/\")\n",
    "    nvalues[-1] =\n",
    "#     for i in range(len(nValues)-1):\n",
    "#         a = i\n",
    "#         b = i+1\n",
    "#         if nValues[a]>nValues[b]:\n",
    "#             c = nValues[a]\n",
    "#             nValues[a] = nValues[b]\n",
    "#             nValues[b] = c\n",
    "            \n",
    "    \n",
    "    print(values, values[-1], nValues, nValues[-1])"
   ]
  },
  {
   "cell_type": "code",
   "execution_count": 9,
   "metadata": {},
   "outputs": [
    {
     "data": {
      "text/plain": [
       "['23', '10', '2018']"
      ]
     },
     "execution_count": 9,
     "metadata": {},
     "output_type": "execute_result"
    }
   ],
   "source": []
  },
  {
   "cell_type": "code",
   "execution_count": null,
   "metadata": {},
   "outputs": [],
   "source": []
  }
 ],
 "metadata": {
  "kernelspec": {
   "display_name": "Python 3",
   "language": "python",
   "name": "python3"
  },
  "language_info": {
   "codemirror_mode": {
    "name": "ipython",
    "version": 3
   },
   "file_extension": ".py",
   "mimetype": "text/x-python",
   "name": "python",
   "nbconvert_exporter": "python",
   "pygments_lexer": "ipython3",
   "version": "3.7.4"
  }
 },
 "nbformat": 4,
 "nbformat_minor": 2
}
