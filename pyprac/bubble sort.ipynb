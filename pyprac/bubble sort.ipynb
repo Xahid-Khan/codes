{
 "cells": [
  {
   "cell_type": "code",
   "execution_count": 26,
   "metadata": {},
   "outputs": [],
   "source": [
    "from random import randint"
   ]
  },
  {
   "cell_type": "code",
   "execution_count": 27,
   "metadata": {},
   "outputs": [],
   "source": [
    "l3 = [randint(1, 100) for i in range(6)]"
   ]
  },
  {
   "cell_type": "code",
   "execution_count": 28,
   "metadata": {},
   "outputs": [
    {
     "data": {
      "text/plain": [
       "[99, 13, 81, 40, 48, 75]"
      ]
     },
     "execution_count": 28,
     "metadata": {},
     "output_type": "execute_result"
    }
   ],
   "source": [
    "l3"
   ]
  },
  {
   "cell_type": "code",
   "execution_count": 31,
   "metadata": {},
   "outputs": [],
   "source": [
    "def incSort(l3):\n",
    "  \n",
    "    for i in range(len(l3) -1):\n",
    "        a = i\n",
    "        b = i+1\n",
    "        if l3[b] < l3[a]:\n",
    "            c = l3[a]\n",
    "            l3[a] = l3[b]\n",
    "            l3[b] = c\n",
    "            \n",
    "    return l3"
   ]
  },
  {
   "cell_type": "code",
   "execution_count": 32,
   "metadata": {},
   "outputs": [
    {
     "data": {
      "text/plain": [
       "[13, 81, 40, 48, 75, 99]"
      ]
     },
     "execution_count": 32,
     "metadata": {},
     "output_type": "execute_result"
    }
   ],
   "source": [
    "incSort(l3)"
   ]
  },
  {
   "cell_type": "code",
   "execution_count": 12,
   "metadata": {},
   "outputs": [
    {
     "data": {
      "text/plain": [
       "[28, 10, 19, 62, 74, 86]"
      ]
     },
     "execution_count": 12,
     "metadata": {},
     "output_type": "execute_result"
    }
   ],
   "source": [
    "incSort(l3)"
   ]
  },
  {
   "cell_type": "code",
   "execution_count": 17,
   "metadata": {},
   "outputs": [],
   "source": [
    "l = [randint(1, 100) for i in range(6)]"
   ]
  },
  {
   "cell_type": "code",
   "execution_count": 18,
   "metadata": {},
   "outputs": [],
   "source": [
    "def maxToEnd(l):\n",
    "    for i in range (len(l)-1):\n",
    "        a = i\n",
    "        b = i+1\n",
    "        #print(l[a], l[b])\n",
    "        if l[b] < l[a]:\n",
    "            c = l[a] \n",
    "            l[a] = l[b]\n",
    "            l[b] = c\n",
    "    return l\n"
   ]
  },
  {
   "cell_type": "code",
   "execution_count": 19,
   "metadata": {},
   "outputs": [],
   "source": [
    "l1= maxToEnd(l)"
   ]
  },
  {
   "cell_type": "code",
   "execution_count": 20,
   "metadata": {},
   "outputs": [
    {
     "data": {
      "text/plain": [
       "[60, 56, 4, 63, 30, 70]"
      ]
     },
     "execution_count": 20,
     "metadata": {},
     "output_type": "execute_result"
    }
   ],
   "source": [
    "l1"
   ]
  },
  {
   "cell_type": "code",
   "execution_count": null,
   "metadata": {},
   "outputs": [],
   "source": []
  },
  {
   "cell_type": "code",
   "execution_count": null,
   "metadata": {},
   "outputs": [],
   "source": []
  },
  {
   "cell_type": "code",
   "execution_count": 2,
   "metadata": {},
   "outputs": [],
   "source": [
    "tup =[('for', 24), ('is', 10), ('Geeks', 28),  \n",
    "      ('Geeksforgeeks', 5), ('portal', 20), ('a', 15)]  \n",
    "# write a python program to sort the tupple list by second item. "
   ]
  },
  {
   "cell_type": "code",
   "execution_count": 14,
   "metadata": {},
   "outputs": [],
   "source": [
    "def sort_tupple(tup):\n",
    "    for i in range(0, len(tup)):\n",
    "        for j in range(0, len(tup)-i-1):\n",
    "            if (tup[j][1]>tup[j+1][1]):\n",
    "                temp = tup[j]  \n",
    "                tup[j]= tup[j + 1]  \n",
    "                tup[j + 1]= temp \n",
    "    return(tup)"
   ]
  },
  {
   "cell_type": "code",
   "execution_count": 15,
   "metadata": {},
   "outputs": [
    {
     "data": {
      "text/plain": [
       "[('Geeksforgeeks', 5),\n",
       " ('is', 10),\n",
       " ('a', 15),\n",
       " ('portal', 20),\n",
       " ('for', 24),\n",
       " ('Geeks', 28)]"
      ]
     },
     "execution_count": 15,
     "metadata": {},
     "output_type": "execute_result"
    }
   ],
   "source": [
    "sort_tupple([('for', 24), ('is', 10), ('Geeks', 28),  \n",
    "      ('Geeksforgeeks', 5), ('portal', 20), ('a', 15)] )"
   ]
  },
  {
   "cell_type": "code",
   "execution_count": 18,
   "metadata": {},
   "outputs": [
    {
     "data": {
      "text/plain": [
       "[('Ahsan_Nazer', 1988), ('Mohadesa_Sharifi', 1995), ('Ayat_Khidiri', 2018)]"
      ]
     },
     "execution_count": 18,
     "metadata": {},
     "output_type": "execute_result"
    }
   ],
   "source": [
    "sort_tupple([(\"Mohadesa_Sharifi\", 1995), (\"Ahsan_Nazer\", 1988), (\"Ayat_Khidiri\", 2018)])\n"
   ]
  },
  {
   "cell_type": "code",
   "execution_count": 20,
   "metadata": {},
   "outputs": [
    {
     "ename": "SyntaxError",
     "evalue": "invalid token (<ipython-input-20-3f83d58c4754>, line 1)",
     "output_type": "error",
     "traceback": [
      "\u001b[0;36m  File \u001b[0;32m\"<ipython-input-20-3f83d58c4754>\"\u001b[0;36m, line \u001b[0;32m1\u001b[0m\n\u001b[0;31m    myTupple = [(\"Mohadesa Sharifi\", 29/01/1995), (\"Ahsan Nazer\", 19/01/1988),\u001b[0m\n\u001b[0m                                         ^\u001b[0m\n\u001b[0;31mSyntaxError\u001b[0m\u001b[0;31m:\u001b[0m invalid token\n"
     ]
    }
   ],
   "source": [
    "myTupple = [(\"Mohadesa Sharifi\", 29/01/1995), (\"Ahsan Nazer\", 19/01/1988),\n",
    "            (\"Ayat Khidiri\", 23/10/2018)]\n"
   ]
  },
  {
   "cell_type": "code",
   "execution_count": 29,
   "metadata": {},
   "outputs": [
    {
     "ename": "SyntaxError",
     "evalue": "unexpected EOF while parsing (<ipython-input-29-d36daa350140>, line 5)",
     "output_type": "error",
     "traceback": [
      "\u001b[0;36m  File \u001b[0;32m\"<ipython-input-29-d36daa350140>\"\u001b[0;36m, line \u001b[0;32m5\u001b[0m\n\u001b[0;31m    #print(range(0, len(tup-i-1)))\u001b[0m\n\u001b[0m                                  ^\u001b[0m\n\u001b[0;31mSyntaxError\u001b[0m\u001b[0;31m:\u001b[0m unexpected EOF while parsing\n"
     ]
    }
   ],
   "source": [
    "tup = [(\"Mohadesa_Sharifi\", 1995), (\"Ahsan_Nazer\", 1988), (\"Ayat_Khidiri\", 2018)]\n",
    "for i in range(0, len(tup)):\n",
    "    print(range(0, (i))\n",
    "        #for j in range(0, len(tup)-i-1):\n",
    "            #print(range(0, len(tup-i-1)))"
   ]
  },
  {
   "cell_type": "code",
   "execution_count": null,
   "metadata": {},
   "outputs": [],
   "source": []
  }
 ],
 "metadata": {
  "kernelspec": {
   "display_name": "Python 3",
   "language": "python",
   "name": "python3"
  },
  "language_info": {
   "codemirror_mode": {
    "name": "ipython",
    "version": 3
   },
   "file_extension": ".py",
   "mimetype": "text/x-python",
   "name": "python",
   "nbconvert_exporter": "python",
   "pygments_lexer": "ipython3",
   "version": "3.7.4"
  }
 },
 "nbformat": 4,
 "nbformat_minor": 2
}
