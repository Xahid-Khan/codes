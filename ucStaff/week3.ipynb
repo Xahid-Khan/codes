{
 "cells": [
  {
   "cell_type": "code",
   "execution_count": 1,
   "metadata": {},
   "outputs": [],
   "source": [
    "# boolean, conditionals"
   ]
  },
  {
   "cell_type": "code",
   "execution_count": 2,
   "metadata": {},
   "outputs": [],
   "source": [
    "#  Boolean expressions are >, <, ==, !=, in, not in, low <= i <= high, (and, or),(+,-,**,/) "
   ]
  },
  {
   "cell_type": "code",
   "execution_count": 3,
   "metadata": {},
   "outputs": [
    {
     "data": {
      "text/plain": [
       "True"
      ]
     },
     "execution_count": 3,
     "metadata": {},
     "output_type": "execute_result"
    }
   ],
   "source": [
    "10 > 5"
   ]
  },
  {
   "cell_type": "code",
   "execution_count": 4,
   "metadata": {},
   "outputs": [
    {
     "data": {
      "text/plain": [
       "True"
      ]
     },
     "execution_count": 4,
     "metadata": {},
     "output_type": "execute_result"
    }
   ],
   "source": [
    "10 == 10"
   ]
  },
  {
   "cell_type": "code",
   "execution_count": 5,
   "metadata": {},
   "outputs": [
    {
     "data": {
      "text/plain": [
       "False"
      ]
     },
     "execution_count": 5,
     "metadata": {},
     "output_type": "execute_result"
    }
   ],
   "source": [
    "10 < -5"
   ]
  },
  {
   "cell_type": "code",
   "execution_count": 6,
   "metadata": {},
   "outputs": [
    {
     "data": {
      "text/plain": [
       "True"
      ]
     },
     "execution_count": 6,
     "metadata": {},
     "output_type": "execute_result"
    }
   ],
   "source": [
    "\"a\" < \"apple\""
   ]
  },
  {
   "cell_type": "code",
   "execution_count": 7,
   "metadata": {},
   "outputs": [
    {
     "data": {
      "text/plain": [
       "True"
      ]
     },
     "execution_count": 7,
     "metadata": {},
     "output_type": "execute_result"
    }
   ],
   "source": [
    "\"ABC\" < \"abc\""
   ]
  },
  {
   "cell_type": "code",
   "execution_count": 8,
   "metadata": {},
   "outputs": [
    {
     "data": {
      "text/plain": [
       "True"
      ]
     },
     "execution_count": 8,
     "metadata": {},
     "output_type": "execute_result"
    }
   ],
   "source": [
    "\"A\" in \"ABC\""
   ]
  },
  {
   "cell_type": "code",
   "execution_count": 9,
   "metadata": {},
   "outputs": [
    {
     "data": {
      "text/plain": [
       "False"
      ]
     },
     "execution_count": 9,
     "metadata": {},
     "output_type": "execute_result"
    }
   ],
   "source": [
    "\"A\" in \"abc\""
   ]
  },
  {
   "cell_type": "code",
   "execution_count": 10,
   "metadata": {},
   "outputs": [
    {
     "data": {
      "text/plain": [
       "True"
      ]
     },
     "execution_count": 10,
     "metadata": {},
     "output_type": "execute_result"
    }
   ],
   "source": [
    "\"red\" in \"fred\""
   ]
  },
  {
   "cell_type": "code",
   "execution_count": 11,
   "metadata": {},
   "outputs": [
    {
     "data": {
      "text/plain": [
       "False"
      ]
     },
     "execution_count": 11,
     "metadata": {},
     "output_type": "execute_result"
    }
   ],
   "source": [
    "\"red\" not in \"Fredd\""
   ]
  },
  {
   "cell_type": "code",
   "execution_count": 12,
   "metadata": {},
   "outputs": [
    {
     "data": {
      "text/plain": [
       "True"
      ]
     },
     "execution_count": 12,
     "metadata": {},
     "output_type": "execute_result"
    }
   ],
   "source": [
    "10 != 11"
   ]
  },
  {
   "cell_type": "code",
   "execution_count": 13,
   "metadata": {},
   "outputs": [
    {
     "data": {
      "text/plain": [
       "True"
      ]
     },
     "execution_count": 13,
     "metadata": {},
     "output_type": "execute_result"
    }
   ],
   "source": [
    "10 <= 15 <= 20"
   ]
  },
  {
   "cell_type": "code",
   "execution_count": 14,
   "metadata": {},
   "outputs": [
    {
     "data": {
      "text/plain": [
       "False"
      ]
     },
     "execution_count": 14,
     "metadata": {},
     "output_type": "execute_result"
    }
   ],
   "source": [
    "5 < 10 == False"
   ]
  },
  {
   "cell_type": "code",
   "execution_count": 15,
   "metadata": {},
   "outputs": [
    {
     "data": {
      "text/plain": [
       "True"
      ]
     },
     "execution_count": 15,
     "metadata": {},
     "output_type": "execute_result"
    }
   ],
   "source": [
    "1 + 1 == 2"
   ]
  },
  {
   "cell_type": "code",
   "execution_count": 16,
   "metadata": {},
   "outputs": [
    {
     "data": {
      "text/plain": [
       "False"
      ]
     },
     "execution_count": 16,
     "metadata": {},
     "output_type": "execute_result"
    }
   ],
   "source": [
    "width = 20\n",
    "height = 10\n",
    "width // height - 2 < 0"
   ]
  },
  {
   "cell_type": "code",
   "execution_count": 17,
   "metadata": {},
   "outputs": [
    {
     "ename": "NameError",
     "evalue": "name 'is_small' is not defined",
     "output_type": "error",
     "traceback": [
      "\u001b[0;31m---------------------------------------------------------------------------\u001b[0m",
      "\u001b[0;31mNameError\u001b[0m                                 Traceback (most recent call last)",
      "\u001b[0;32m<ipython-input-17-82b2d0a6758e>\u001b[0m in \u001b[0;36m<module>\u001b[0;34m\u001b[0m\n\u001b[0;32m----> 1\u001b[0;31m \u001b[0mis_small\u001b[0m \u001b[0;34m==\u001b[0m \u001b[0mheight\u001b[0m \u001b[0;34m<=\u001b[0m \u001b[0;36m10\u001b[0m\u001b[0;34m\u001b[0m\u001b[0;34m\u001b[0m\u001b[0m\n\u001b[0m",
      "\u001b[0;31mNameError\u001b[0m: name 'is_small' is not defined"
     ]
    }
   ],
   "source": [
    "is_small == height <= 10"
   ]
  },
  {
   "cell_type": "code",
   "execution_count": null,
   "metadata": {},
   "outputs": [],
   "source": [
    "is_small"
   ]
  },
  {
   "cell_type": "code",
   "execution_count": null,
   "metadata": {},
   "outputs": [],
   "source": [
    "is_small == height < 10"
   ]
  },
  {
   "cell_type": "code",
   "execution_count": null,
   "metadata": {},
   "outputs": [],
   "source": [
    "width // height > 2 "
   ]
  },
  {
   "cell_type": "code",
   "execution_count": null,
   "metadata": {},
   "outputs": [],
   "source": [
    "width // height - 2 < 0\n",
    "width <= height\n",
    "height + 10 <= width\n",
    "width > height\n",
    "height * 2 == width\n",
    "width // height < 2\n",
    "width // height - 2 >= 0\n",
    "width // height > 2 "
   ]
  },
  {
   "cell_type": "code",
   "execution_count": null,
   "metadata": {},
   "outputs": [],
   "source": [
    "name = \"Angus Grunge\"\n",
    "age = 24\n",
    "address = \"23 Somewhere Lane, Dunedin 8054\""
   ]
  },
  {
   "cell_type": "code",
   "execution_count": null,
   "metadata": {},
   "outputs": [],
   "source": [
    "\" \" in name"
   ]
  },
  {
   "cell_type": "code",
   "execution_count": null,
   "metadata": {},
   "outputs": [],
   "source": [
    "\"99 bottles of beer on the wall\" > \"99 bottles of beer\""
   ]
  },
  {
   "cell_type": "code",
   "execution_count": null,
   "metadata": {},
   "outputs": [],
   "source": [
    "\"Hello class!\".islower()"
   ]
  },
  {
   "cell_type": "code",
   "execution_count": null,
   "metadata": {},
   "outputs": [],
   "source": [
    "not (age > 21 or name == \"Fred\")"
   ]
  },
  {
   "cell_type": "code",
   "execution_count": null,
   "metadata": {},
   "outputs": [],
   "source": [
    "# if statments\n",
    "# if boolean expression:\n",
    "#     block\n",
    "# elif bool_expression:\n",
    "#     block\n",
    "# ...\n",
    "# else:\n",
    "#     block"
   ]
  },
  {
   "cell_type": "code",
   "execution_count": null,
   "metadata": {},
   "outputs": [],
   "source": [
    "# the user should give the name of substance and its measured pH.\n",
    "substance = input(\"What substance? \")\n",
    "ph = float(input(\"Enter the measured pH: \"))\n",
    "if ph < 7.0:\n",
    "    print(substance + \" is acidic\")\n",
    "#     Test: substance is venigar and pH is 4."
   ]
  },
  {
   "cell_type": "code",
   "execution_count": null,
   "metadata": {},
   "outputs": [],
   "source": [
    "# the user should give the name of substance and its measured pH.\n",
    "substance = input(\"What substance? \")\n",
    "ph = float(input(\"Enter the measured pH: \"))\n",
    "if ph < 7.0:\n",
    "    print(substance + \" is acidic\")\n",
    "else:\n",
    "    print(substance + \" is not acidic\")\n",
    "    print(\"But doesn't mean it is safe.\")\n",
    "#     Test: substance is bleach, pH is 12"
   ]
  },
  {
   "cell_type": "code",
   "execution_count": null,
   "metadata": {},
   "outputs": [],
   "source": [
    "# the user should give the name of substance and its measured pH.\n",
    "substance = input(\"What substance? \")\n",
    "ph = float(input(\"Enter the measured pH: \"))\n",
    "if ph < 7.0:\n",
    "    print(substance + \" is acidic\")\n",
    "elif ph == 7:\n",
    "    print(substance + \" is neutral\")\n",
    "else:\n",
    "    print(substance + \" is not acidic\")\n",
    "    print(\"But doesn't mean it is safe.\")\n",
    "#     Test: substance is Water, pH is 7"
   ]
  },
  {
   "cell_type": "code",
   "execution_count": null,
   "metadata": {},
   "outputs": [],
   "source": [
    "# You can use only basic ifs\n",
    "substance = input(\"What substance? \")\n",
    "ph = float(input(\"Enter the measured pH: \"))\n",
    "if ph < 7.0:\n",
    "    print(substance + \" is acidic\")\n",
    "if ph == 7:\n",
    "    print(substance + \" is neutral\")\n",
    "if ph > 7:\n",
    "    print(substance + \" is not acidic\")\n",
    "    print(\"But doesn't mean it is safe.\")"
   ]
  },
  {
   "cell_type": "code",
   "execution_count": null,
   "metadata": {},
   "outputs": [],
   "source": [
    "# Never compare floats for (in)equality.\n",
    "a = 3.0 * 0.1 / 3.0\n",
    "if a == 0.1:\n",
    "    print(\"I should think so too\")\n",
    "else:\n",
    "    print(\"Huh?\")\n"
   ]
  },
  {
   "cell_type": "code",
   "execution_count": null,
   "metadata": {},
   "outputs": [],
   "source": [
    "# Floats are approximate so equality cannot be guaranteed.\n",
    "a"
   ]
  },
  {
   "cell_type": "code",
   "execution_count": null,
   "metadata": {},
   "outputs": [],
   "source": [
    "# Nested ifs: If statements which include if statements.\n",
    "# The conditional code blocks can contain any type of statement including if statements"
   ]
  },
  {
   "cell_type": "code",
   "execution_count": null,
   "metadata": {},
   "outputs": [],
   "source": [
    "import math"
   ]
  },
  {
   "cell_type": "code",
   "execution_count": null,
   "metadata": {},
   "outputs": [],
   "source": [
    "# Write a program to solve a quadratic equation. ax + bx + c = 0. "
   ]
  },
  {
   "cell_type": "code",
   "execution_count": null,
   "metadata": {},
   "outputs": [],
   "source": [
    "# Algoritm:\n",
    "# input a, b, c from the user\n",
    "# if a is 0:\n",
    "#     print(\"Not quadratic\")\n",
    "# else:\n",
    "#     compute discriminant b**2-4ac\n",
    "#     if discriminant is not negative\n",
    "#     compute and print root \n",
    "#     else:\n",
    "#     print(\"roots are imiginary\")"
   ]
  },
  {
   "cell_type": "code",
   "execution_count": null,
   "metadata": {},
   "outputs": [],
   "source": [
    "\"\"\"input a, b, c parameters and calculate quadratic root\"\"\"\n",
    "def print_quad(a, b, c):\n",
    "    \"\"\"print the roots of quadratic for a, b, c\"\"\"\n",
    "    if a == 0:\n",
    "        print(\"Not quadratic\")\n",
    "    else:\n",
    "        discriminant = b ** 2 - 4 * a * c\n",
    "        if discriminant >= 0:\n",
    "            root1 = (- b + math.sqrt(discriminant))/(2 * a)\n",
    "            root2 = (- b - math.sqrt(discriminant))/(2 * a)\n",
    "            print(\"Solution: x1 = {:.4f}, x2 = {:.4f}\".format(root1, root2))\n",
    "        else:\n",
    "            print(\"Roots are imiginary\")\n",
    "    "
   ]
  },
  {
   "cell_type": "code",
   "execution_count": null,
   "metadata": {},
   "outputs": [],
   "source": [
    "print_quad(2, 5, 2)"
   ]
  },
  {
   "cell_type": "code",
   "execution_count": null,
   "metadata": {},
   "outputs": [],
   "source": [
    "a = 10\n",
    "b = 25\n"
   ]
  },
  {
   "cell_type": "code",
   "execution_count": null,
   "metadata": {},
   "outputs": [],
   "source": [
    "a or b == 20"
   ]
  },
  {
   "cell_type": "code",
   "execution_count": null,
   "metadata": {},
   "outputs": [],
   "source": [
    "number = 70\n",
    "\n",
    "if number > 18:\n",
    "    print(\"I'll be Bach\")\n",
    "elif number > 45:\n",
    "    print(\"...Bond. James Bond.\")\n",
    "elif number >= 70:\n",
    "    print(\"Luck, I am your father\")\n",
    "else:\n",
    "    print(\"Go ahead, make my day\")"
   ]
  },
  {
   "cell_type": "code",
   "execution_count": null,
   "metadata": {},
   "outputs": [],
   "source": [
    "payment = 30\n",
    "if payment >= 50:\n",
    "    payment_is_sufficient = True\n",
    "else:\n",
    "    payment_is_sufficient = False\n",
    "if payment_is_sufficient and (not payment_is_sufficient):\n",
    "    go_on_tramp()"
   ]
  },
  {
   "cell_type": "code",
   "execution_count": null,
   "metadata": {},
   "outputs": [],
   "source": [
    "def check_age(age):\n",
    "    \"\"\"A docstring that gives nothing away\"\"\"\n",
    "    if age < 18:\n",
    "        underage = True\n",
    "    elif age > 18:\n",
    "        underage = False\n",
    "    return underage\n",
    "\n"
   ]
  },
  {
   "cell_type": "code",
   "execution_count": null,
   "metadata": {},
   "outputs": [],
   "source": [
    "def my_abs(value):\n",
    "    \"\"\"returns the absolute value of value, without using the built-in abs function in Pytho\"\"\"\n",
    "    if value >=0:\n",
    "        return value\n",
    "    else:\n",
    "        return -(value)\n",
    "        "
   ]
  },
  {
   "cell_type": "code",
   "execution_count": null,
   "metadata": {},
   "outputs": [],
   "source": [
    "my_abs(-7)"
   ]
  },
  {
   "cell_type": "code",
   "execution_count": null,
   "metadata": {},
   "outputs": [],
   "source": [
    "print(my_abs(3.5))"
   ]
  },
  {
   "cell_type": "code",
   "execution_count": null,
   "metadata": {},
   "outputs": [],
   "source": [
    "def is_odd(number):\n",
    "    \"\"\"takes an integer parameter number and returns True if and only if number is odd. \"\"\"\n",
    "    if number % 2 == 0:\n",
    "        return False\n",
    "    else:\n",
    "        return True"
   ]
  },
  {
   "cell_type": "code",
   "execution_count": null,
   "metadata": {},
   "outputs": [],
   "source": [
    "is_odd(1)"
   ]
  },
  {
   "cell_type": "code",
   "execution_count": null,
   "metadata": {},
   "outputs": [],
   "source": [
    "is_odd(2)"
   ]
  },
  {
   "cell_type": "code",
   "execution_count": null,
   "metadata": {},
   "outputs": [],
   "source": [
    "is_odd(-321)"
   ]
  },
  {
   "cell_type": "code",
   "execution_count": null,
   "metadata": {},
   "outputs": [],
   "source": [
    "def x_at_either_end(string):\n",
    "    \"\"\"It returns True if and only if the string string starts or ends with the lower-case character x\"\"\"\n",
    "    \n",
    "    \n"
   ]
  },
  {
   "cell_type": "code",
   "execution_count": null,
   "metadata": {},
   "outputs": [],
   "source": [
    " def go_on_tramp():\n",
    "    if payment >= 50:\n",
    "        payment_is_sufficient = True\n",
    "    else:\n",
    "        payment_is_sufficient = False\n",
    "        if payment_is_sufficient or (not payment_is_sufficient):    "
   ]
  },
  {
   "cell_type": "code",
   "execution_count": null,
   "metadata": {},
   "outputs": [],
   "source": [
    "go_on_tramp()"
   ]
  },
  {
   "cell_type": "code",
   "execution_count": null,
   "metadata": {},
   "outputs": [],
   "source": [
    "hours = 12\n",
    "is_cold = True\n",
    "if hours < 12:\n",
    "    if not is_cold:\n",
    "        print(\"it is not cold\")\n",
    "    else:\n",
    "        print(\"it is cold\")\n",
    "    print(\"it is beforenoon\")\n",
    "else:\n",
    "    if is_cold:\n",
    "        print(\"it is cold\")\n",
    "    else:\n",
    "        print(\"it is not cold\")\n",
    "    print(\"it is afternoon\")"
   ]
  },
  {
   "cell_type": "code",
   "execution_count": null,
   "metadata": {},
   "outputs": [],
   "source": [
    "def silly(i, j):\n",
    "    \"\"\"Does something silly\"\"\"\n",
    "    if i > j and i != 3 and j != 2 or not:\n",
    "        return True\n",
    "    "
   ]
  },
  {
   "cell_type": "code",
   "execution_count": null,
   "metadata": {},
   "outputs": [],
   "source": [
    "def bmi_risk(bmi, age):\n",
    "    \"\"\"parameters bmi and age and returns a string Low, Medium, or High\"\"\"\n",
    "    if bmi < 22 and age < 45:\n",
    "        return\"Low\"\n",
    "    if bmi < 22 and age >= 45:\n",
    "        return\"Medium\"\n",
    "    if bmi >= 22 and age < 45:\n",
    "        return\"Medium\"\n",
    "    if bmi >= 22 and age >= 45:\n",
    "        return\"High\""
   ]
  },
  {
   "cell_type": "code",
   "execution_count": null,
   "metadata": {},
   "outputs": [],
   "source": [
    "print(bmi_risk(30, 27))"
   ]
  },
  {
   "cell_type": "code",
   "execution_count": null,
   "metadata": {},
   "outputs": [],
   "source": []
  },
  {
   "cell_type": "code",
   "execution_count": null,
   "metadata": {},
   "outputs": [],
   "source": []
  },
  {
   "cell_type": "code",
   "execution_count": null,
   "metadata": {},
   "outputs": [],
   "source": []
  },
  {
   "cell_type": "code",
   "execution_count": null,
   "metadata": {},
   "outputs": [],
   "source": []
  },
  {
   "cell_type": "code",
   "execution_count": null,
   "metadata": {},
   "outputs": [],
   "source": []
  },
  {
   "cell_type": "code",
   "execution_count": null,
   "metadata": {},
   "outputs": [],
   "source": []
  },
  {
   "cell_type": "code",
   "execution_count": null,
   "metadata": {},
   "outputs": [],
   "source": [
    "def thing(i, j):\n",
    "    \"\"\"Does something silly\"\"\"\n",
    "    # i > 10 and j < 5 or i > 20 return False\n",
    "    # i > 10 return True\n",
    "    # i < 10 return False\n",
    "    return i > 10 and not (20 < i < 10) and not j < 5"
   ]
  },
  {
   "cell_type": "code",
   "execution_count": null,
   "metadata": {},
   "outputs": [],
   "source": [
    "thing(19, 6)"
   ]
  },
  {
   "cell_type": "code",
   "execution_count": null,
   "metadata": {},
   "outputs": [],
   "source": [
    "def thing2(i, j):\n",
    "    \"\"\"Does something silly\"\"\"\n",
    "    if i > 10:\n",
    "        if j < 5 or i > 20:\n",
    "            return False\n",
    "        else:\n",
    "            return True\n",
    "    else:\n",
    "        return False"
   ]
  },
  {
   "cell_type": "code",
   "execution_count": null,
   "metadata": {},
   "outputs": [],
   "source": [
    "thing2(11, 6)"
   ]
  },
  {
   "cell_type": "code",
   "execution_count": null,
   "metadata": {},
   "outputs": [],
   "source": [
    "alcohol_level_string = input(\"Enter blood alcohol level (mg/100ml): \")\n",
    "alcohol_level = float(alcohol_level_string)\n",
    "age_string = input(\"Enter age in years: \")\n",
    "age = float(age_string)\n",
    "if (age < 20 and alcohol_level > 0) or alcohol_level >= 50:\n",
    "    print(\"You're not allowed to drive\")\n",
    "elif (age >= 20 and 50 > alcohol_level >= 30 ):\n",
    "    print(\"You're legally allowed to drive, but please don't\")\n",
    "else:\n",
    "    print(\"You are allowed to drive\")"
   ]
  },
  {
   "cell_type": "code",
   "execution_count": null,
   "metadata": {},
   "outputs": [],
   "source": [
    "\"\"\"Crazy pylint style\"\"\"\n",
    "def main():\n",
    "    \"\"\"Input users age and alcohol level. Output a message.\"\"\"\n",
    "    alcohol_level_string = input(\"Enter blood alcohol level (mg/100ml): \")\n",
    "    alcohol_level = float(alcohol_level_string)\n",
    "    age_string = input(\"Enter age in years: \")\n",
    "    age = float(age_string)\n",
    "    if (age < 20 and alcohol_level > 0) or alcohol_level >= 50:\n",
    "        print(\"You're not allowed to drive\")\n",
    "    elif (age >= 20 and 50 > alcohol_level >= 30):\n",
    "        print(\"You're legally allowed to drive, but please don't\")\n",
    "    else:\n",
    "        print(\"You're allowed to drive\")\n",
    "        \n",
    "# Run the program\n",
    "main()\n",
    "   "
   ]
  },
  {
   "cell_type": "code",
   "execution_count": null,
   "metadata": {},
   "outputs": [],
   "source": [
    "\"\"\"string starts and ends with lowercase\"\"\"\n",
    "def x_at_either_end(string):\n",
    "    \"\"\"variable\"\"\"\n",
    "    if string == (''):\n",
    "        return False\n",
    "    if string.startswith(string.lower()) or string.endswith(string.lower()):\n",
    "        return True\n",
    "    else:\n",
    "        return False\n",
    "    "
   ]
  },
  {
   "cell_type": "code",
   "execution_count": null,
   "metadata": {},
   "outputs": [],
   "source": [
    "x_at_either_end('Ping Pong')"
   ]
  },
  {
   "cell_type": "code",
   "execution_count": null,
   "metadata": {},
   "outputs": [],
   "source": [
    "print(x_at_either_end('pax'))"
   ]
  },
  {
   "cell_type": "code",
   "execution_count": null,
   "metadata": {},
   "outputs": [],
   "source": [
    "print(x_at_either_end('xposure'))"
   ]
  },
  {
   "cell_type": "code",
   "execution_count": null,
   "metadata": {},
   "outputs": [],
   "source": [
    "print(x_at_either_end(''))"
   ]
  },
  {
   "cell_type": "code",
   "execution_count": 22,
   "metadata": {},
   "outputs": [],
   "source": [
    "\n",
    "def x_at_either_end(string):\n",
    "    \"\"\"Checks if string s starts or end with letter x returns True if it does\"\"\"\n",
    "    if string.startswith('x') or string.endswith('x'):\n",
    "        return True\n",
    "    else:\n",
    "        return False\n",
    "        "
   ]
  },
  {
   "cell_type": "code",
   "execution_count": 23,
   "metadata": {},
   "outputs": [
    {
     "data": {
      "text/plain": [
       "False"
      ]
     },
     "execution_count": 23,
     "metadata": {},
     "output_type": "execute_result"
    }
   ],
   "source": [
    "x_at_either_end('axa')"
   ]
  },
  {
   "cell_type": "code",
   "execution_count": 24,
   "metadata": {},
   "outputs": [],
   "source": [
    "def same_ends(string_1, string_2):\n",
    "    \"\"\"retrun true both parameters starts and ends with same letters\"\"\"\n",
    "    if string_1 == string_2:\n",
    "        return False\n",
    "    if string_1[0] == string_2[0] and string_1[-1] == string_2[-1]:\n",
    "        return True\n",
    "    else:\n",
    "        return False\n",
    "    "
   ]
  },
  {
   "cell_type": "code",
   "execution_count": 28,
   "metadata": {},
   "outputs": [
    {
     "data": {
      "text/plain": [
       "False"
      ]
     },
     "execution_count": 28,
     "metadata": {},
     "output_type": "execute_result"
    }
   ],
   "source": [
    "same_ends(\"flubber\", \"rubber\")"
   ]
  },
  {
   "cell_type": "code",
   "execution_count": 1,
   "metadata": {},
   "outputs": [],
   "source": [
    "width = 20\n",
    "height = 10"
   ]
  },
  {
   "cell_type": "code",
   "execution_count": 9,
   "metadata": {},
   "outputs": [
    {
     "data": {
      "text/plain": [
       "False"
      ]
     },
     "execution_count": 9,
     "metadata": {},
     "output_type": "execute_result"
    }
   ],
   "source": [
    "width // height > 2"
   ]
  },
  {
   "cell_type": "code",
   "execution_count": 10,
   "metadata": {},
   "outputs": [],
   "source": [
    "def bmi_risk(bmi, age):\n",
    "    \"\"\"parameters bmi and age and returns a string Low, Medium, or High\"\"\"\n",
    "    if bmi < 22 and age < 45:\n",
    "        return \"Low\"\n",
    "    if bmi < 22 and age >= 45:\n",
    "        return \"Medium\"\n",
    "    if bmi >= 22 and age < 45:\n",
    "        return \"Medium\"\n",
    "    if bmi >= 22 and age >= 45:\n",
    "        return \"High\""
   ]
  },
  {
   "cell_type": "code",
   "execution_count": 18,
   "metadata": {},
   "outputs": [
    {
     "name": "stdout",
     "output_type": "stream",
     "text": [
      "Low\n",
      "Medium\n",
      "Medium\n",
      "Medium\n",
      "High\n",
      "High\n",
      "Medium\n",
      "High\n",
      "High\n"
     ]
    }
   ],
   "source": [
    " \t\n",
    "\n",
    "for bmi in range(21,24):\n",
    "  for age in range(44,47):\n",
    "    print(bmi_risk(bmi, age))"
   ]
  },
  {
   "cell_type": "code",
   "execution_count": 29,
   "metadata": {},
   "outputs": [
    {
     "name": "stdout",
     "output_type": "stream",
     "text": [
      "Enter blood alcohol level (mg/100ml): 30\n",
      "Enter age in years: 40\n",
      "You're legally allowed to drive, but please don't\n"
     ]
    }
   ],
   "source": [
    "\"\"\"Crazy pylint style\"\"\"\n",
    "def main():\n",
    "    \"\"\"Input users age and alcohol level. Output a message.\"\"\"\n",
    "    alcohol_level_string = input(\"Enter blood alcohol level (mg/100ml): \")\n",
    "    alcohol_level = float(alcohol_level_string)\n",
    "    age_string = input(\"Enter age in years: \")\n",
    "    age = float(age_string)\n",
    "    if (age < 20 and alcohol_level > 0) or alcohol_level >= 50:\n",
    "        print(\"You're not allowed to drive\")\n",
    "    elif (age >= 20 and 50 > alcohol_level >= 30):\n",
    "        print(\"You're legally allowed to drive, but please don't\")\n",
    "    else:\n",
    "        print(\"You're allowed to drive\")\n",
    "        \n",
    "# Run the program\n",
    "main()"
   ]
  },
  {
   "cell_type": "code",
   "execution_count": 22,
   "metadata": {},
   "outputs": [
    {
     "data": {
      "text/plain": [
       "True"
      ]
     },
     "execution_count": 22,
     "metadata": {},
     "output_type": "execute_result"
    }
   ],
   "source": [
    "thing(15,6)"
   ]
  },
  {
   "cell_type": "code",
   "execution_count": null,
   "metadata": {},
   "outputs": [],
   "source": []
  }
 ],
 "metadata": {
  "kernelspec": {
   "display_name": "Python 3",
   "language": "python",
   "name": "python3"
  },
  "language_info": {
   "codemirror_mode": {
    "name": "ipython",
    "version": 3
   },
   "file_extension": ".py",
   "mimetype": "text/x-python",
   "name": "python",
   "nbconvert_exporter": "python",
   "pygments_lexer": "ipython3",
   "version": "3.7.4"
  }
 },
 "nbformat": 4,
 "nbformat_minor": 2
}
