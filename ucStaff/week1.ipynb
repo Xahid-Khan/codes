{
 "cells": [
  {
   "cell_type": "code",
   "execution_count": null,
   "metadata": {},
   "outputs": [],
   "source": [
    "# Expressions, Values, Types, Assignment, Variable, functions"
   ]
  },
  {
   "cell_type": "code",
   "execution_count": 28,
   "metadata": {},
   "outputs": [],
   "source": [
    "\"\"\"Create a function order_total(litres, num_of_brushes, discount_proportion) that calculates \n",
    "and returns the total cost of an order allowing for the discount and including GST. \n",
    "The price of paint is $10 per litre and brushes are $2 each. \n",
    "The discount_proportion will be a value between 0 and 1 and applies to both items\n",
    "Goods and services tax (GST) needs should be added to total cost, GST is set to 15% (that is, 0.15)\"\"\"\n",
    "\n",
    "def order_total(litres, num_of_brushes, discount_proportion):\n",
    "    price_of_paint = 10\n",
    "    price_of_brushes = 2\n",
    "    total = (litres * price_of_paint + num_of_brushes * price_of_brushes) * (1 - discount_proportion) * (1.15)  \n",
    "    return total\n"
   ]
  },
  {
   "cell_type": "code",
   "execution_count": 29,
   "metadata": {},
   "outputs": [
    {
     "data": {
      "text/plain": [
       "11.5"
      ]
     },
     "execution_count": 29,
     "metadata": {},
     "output_type": "execute_result"
    }
   ],
   "source": [
    "order_total(1, 5, 0.5)\n"
   ]
  },
  {
   "cell_type": "code",
   "execution_count": 30,
   "metadata": {},
   "outputs": [
    {
     "data": {
      "text/plain": [
       "22.77"
      ]
     },
     "execution_count": 30,
     "metadata": {},
     "output_type": "execute_result"
    }
   ],
   "source": [
    "order_total(2, 1, 0.1)"
   ]
  },
  {
   "cell_type": "code",
   "execution_count": 24,
   "metadata": {},
   "outputs": [],
   "source": [
    "\"\"\"Write the function feet(centimetres) that takes a measurement in centimetres and returns the equivalent in feet.\n",
    "For the sake of this question you can assume that one foot equals 30.48 centimetres.\"\"\"\n",
    "\n",
    "def feet(centimetres):\n",
    "    feet = centimetres / 30.48\n",
    "    return feet"
   ]
  },
  {
   "cell_type": "code",
   "execution_count": 27,
   "metadata": {},
   "outputs": [
    {
     "data": {
      "text/plain": [
       "2.0006561679790025"
      ]
     },
     "execution_count": 27,
     "metadata": {},
     "output_type": "execute_result"
    }
   ],
   "source": [
    "feet(60.98)"
   ]
  },
  {
   "cell_type": "code",
   "execution_count": 39,
   "metadata": {},
   "outputs": [],
   "source": [
    "\"\"\"Write a function minutes_in_weeks(number_of_weeks) that returns the number of minutes in the given number of weeks.\n",
    "There are 60 minutes in an hour, and 24 hours in a day, and 7 days in a week.\"\"\"\n",
    "\n",
    "def minutes_in_weeks(number_of_weeks):\n",
    "    min_in_hr = 60\n",
    "    min_in_day = 24 * min_in_hr\n",
    "    min_in_week = 7 * min_in_day\n",
    "    number_of_minutes = number_of_weeks * min_in_week\n",
    "    return number_of_minutes"
   ]
  },
  {
   "cell_type": "code",
   "execution_count": 40,
   "metadata": {},
   "outputs": [
    {
     "data": {
      "text/plain": [
       "20160"
      ]
     },
     "execution_count": 40,
     "metadata": {},
     "output_type": "execute_result"
    }
   ],
   "source": [
    "minutes_in_weeks(2)"
   ]
  },
  {
   "cell_type": "code",
   "execution_count": 41,
   "metadata": {},
   "outputs": [],
   "source": [
    "USA = 10"
   ]
  },
  {
   "cell_type": "code",
   "execution_count": 45,
   "metadata": {},
   "outputs": [],
   "source": [
    "def inches(centimetres):\n",
    "    inche = centimetres / 2.54\n",
    "    return inche"
   ]
  },
  {
   "cell_type": "code",
   "execution_count": 46,
   "metadata": {},
   "outputs": [
    {
     "data": {
      "text/plain": [
       "1.0"
      ]
     },
     "execution_count": 46,
     "metadata": {},
     "output_type": "execute_result"
    }
   ],
   "source": [
    "inches(2.54)"
   ]
  },
  {
   "cell_type": "code",
   "execution_count": 54,
   "metadata": {},
   "outputs": [],
   "source": [
    "def overall_cost(litres, kg, discount_proportion):\n",
    "    price_of_nails = 5\n",
    "    price_of_paint = 10\n",
    "    total = (litres * price_of_paint + kg * price_of_nails) * (1 - discount_proportion) * (1.1)  \n",
    "    return total\n"
   ]
  },
  {
   "cell_type": "code",
   "execution_count": 55,
   "metadata": {},
   "outputs": [
    {
     "data": {
      "text/plain": [
       "13.750000000000002"
      ]
     },
     "execution_count": 55,
     "metadata": {},
     "output_type": "execute_result"
    }
   ],
   "source": [
    "overall_cost(2, 1, 0.5)"
   ]
  },
  {
   "cell_type": "code",
   "execution_count": 56,
   "metadata": {},
   "outputs": [],
   "source": [
    "_Max_Height = 1"
   ]
  },
  {
   "cell_type": "code",
   "execution_count": 57,
   "metadata": {},
   "outputs": [],
   "source": [
    "\"\"\" Takes number of days and return number of seconds \"\"\"\n",
    "def seconds(number_of_days):\n",
    "    \"\"\" 60 seconds in a minute, 60 minutes in an hour, 24 hours in a day \"\"\"\n",
    "    minute = 60 \n",
    "    hour = minute * 60\n",
    "    day = hour * 24\n",
    "    days = number_of_days * day\n",
    "    return days"
   ]
  },
  {
   "cell_type": "code",
   "execution_count": 58,
   "metadata": {},
   "outputs": [
    {
     "data": {
      "text/plain": [
       "86400"
      ]
     },
     "execution_count": 58,
     "metadata": {},
     "output_type": "execute_result"
    }
   ],
   "source": [
    "seconds(1)"
   ]
  },
  {
   "cell_type": "code",
   "execution_count": 59,
   "metadata": {},
   "outputs": [],
   "source": [
    "\"\"\"calculates and returns the total cost of an order \"\"\"\n",
    "def total_cost(kilograms, litres, discount_proportion):\n",
    "    \"\"\"calculations includes discount and GST.\"\"\"\n",
    "    price_of_nails = 5\n",
    "    price_of_paint = 10\n",
    "    gross_price = price_of_nails * kilograms + price_of_paint * litres\n",
    "    total_price = gross_price * (1 - discount_proportion) * 1.15\n",
    "    return total_price"
   ]
  },
  {
   "cell_type": "code",
   "execution_count": 60,
   "metadata": {},
   "outputs": [
    {
     "data": {
      "text/plain": [
       "11.5"
      ]
     },
     "execution_count": 60,
     "metadata": {},
     "output_type": "execute_result"
    }
   ],
   "source": [
    "total_cost(2, 1, 0.5)"
   ]
  },
  {
   "cell_type": "code",
   "execution_count": 63,
   "metadata": {},
   "outputs": [],
   "source": [
    "\"\"\" The function takes number of weeks and returns number of minutes.\"\"\"\n",
    "def minutes_in_weeks(number_of_weeks):\n",
    "    \"\"\"60 minutes in an hour, and 24 hours in a day, and 7 days in a week.\"\"\"\n",
    "    min_in_hr = 60\n",
    "    min_in_day = 24 * min_in_hr\n",
    "    min_in_week = min_in_day * 7\n",
    "    min_in_weeks = number_of_weeks * min_in_week\n",
    "    return min_in_weeks\n",
    "    "
   ]
  },
  {
   "cell_type": "code",
   "execution_count": 64,
   "metadata": {},
   "outputs": [
    {
     "data": {
      "text/plain": [
       "10080"
      ]
     },
     "execution_count": 64,
     "metadata": {},
     "output_type": "execute_result"
    }
   ],
   "source": [
    "minutes_in_weeks(1)"
   ]
  },
  {
   "cell_type": "code",
   "execution_count": 71,
   "metadata": {},
   "outputs": [],
   "source": [
    "\"\"\" The function takes measurement in centimetres and return it in feet\"\"\"\n",
    "def feet(centimetres):\n",
    "    \"\"\"one foot equals 30.48 centimetres\"\"\"\n",
    "    foot = centimetres / 30.48\n",
    "    return foot\n",
    "    "
   ]
  },
  {
   "cell_type": "code",
   "execution_count": 72,
   "metadata": {},
   "outputs": [
    {
     "data": {
      "text/plain": [
       "2.0"
      ]
     },
     "execution_count": 72,
     "metadata": {},
     "output_type": "execute_result"
    }
   ],
   "source": [
    "feet(60.96)"
   ]
  },
  {
   "cell_type": "code",
   "execution_count": 3,
   "metadata": {},
   "outputs": [
    {
     "data": {
      "text/plain": [
       "1.2"
      ]
     },
     "execution_count": 3,
     "metadata": {},
     "output_type": "execute_result"
    }
   ],
   "source": [
    "6 / 5"
   ]
  },
  {
   "cell_type": "code",
   "execution_count": 1,
   "metadata": {},
   "outputs": [
    {
     "data": {
      "text/plain": [
       "24"
      ]
     },
     "execution_count": 1,
     "metadata": {},
     "output_type": "execute_result"
    }
   ],
   "source": [
    "24 % 25"
   ]
  },
  {
   "cell_type": "code",
   "execution_count": 2,
   "metadata": {},
   "outputs": [
    {
     "data": {
      "text/plain": [
       "0"
      ]
     },
     "execution_count": 2,
     "metadata": {},
     "output_type": "execute_result"
    }
   ],
   "source": [
    "24 // 25"
   ]
  },
  {
   "cell_type": "code",
   "execution_count": 3,
   "metadata": {},
   "outputs": [
    {
     "data": {
      "text/plain": [
       "8"
      ]
     },
     "execution_count": 3,
     "metadata": {},
     "output_type": "execute_result"
    }
   ],
   "source": [
    "10 ^ 2"
   ]
  },
  {
   "cell_type": "code",
   "execution_count": 4,
   "metadata": {},
   "outputs": [
    {
     "data": {
      "text/plain": [
       "95"
      ]
     },
     "execution_count": 4,
     "metadata": {},
     "output_type": "execute_result"
    }
   ],
   "source": [
    "1056895 % 100"
   ]
  },
  {
   "cell_type": "code",
   "execution_count": null,
   "metadata": {},
   "outputs": [],
   "source": []
  }
 ],
 "metadata": {
  "kernelspec": {
   "display_name": "Python 3",
   "language": "python",
   "name": "python3"
  },
  "language_info": {
   "codemirror_mode": {
    "name": "ipython",
    "version": 3
   },
   "file_extension": ".py",
   "mimetype": "text/x-python",
   "name": "python",
   "nbconvert_exporter": "python",
   "pygments_lexer": "ipython3",
   "version": "3.7.4"
  }
 },
 "nbformat": 4,
 "nbformat_minor": 2
}
