{
 "cells": [
  {
   "cell_type": "code",
   "execution_count": null,
   "metadata": {},
   "outputs": [],
   "source": [
    "# Strings, objects, and methods"
   ]
  },
  {
   "cell_type": "code",
   "execution_count": null,
   "metadata": {},
   "outputs": [],
   "source": [
    "\n"
   ]
  },
  {
   "cell_type": "code",
   "execution_count": null,
   "metadata": {},
   "outputs": [],
   "source": [
    "full_name = input(\"Enter your full name: \")\n",
    "pos_of_space = full_name.find(' ')\n",
    "first_name = full_name[0:pos_of_space]\n",
    "last_name = full_name[pos_of_space+1:]\n",
    "corrected_first_name = first_name.capitalize()\n",
    "corrected_last_name = last_name.capitalize()\n",
    "print(\"Hi\", corrected_first_name, corrected_last_name)\n"
   ]
  },
  {
   "cell_type": "code",
   "execution_count": null,
   "metadata": {},
   "outputs": [],
   "source": [
    "import math\n",
    "first_name = \"Lucy\"\n",
    "last_name = \"Languid\"\n",
    "third = 1.0 / 3.0\n",
    "print(\"{0} {1}\".format(first_name, last_name))\n",
    "print(\"{} {}\".format(first_name, last_name))\n",
    "print(\"One third to 4 dec places is {0:.4f}\".format(third))\n",
    "print(\"  n   sqrt(n)\")\n",
    "for i in range(100):  # Laying out a table in columns\n",
    "     print(\"{0:3}{1:10.5f}\".format(i, math.sqrt(i)))\n",
    "\n",
    "        "
   ]
  },
  {
   "cell_type": "code",
   "execution_count": null,
   "metadata": {},
   "outputs": [],
   "source": [
    "s = \"Name: \" + name + \", height: \" + height"
   ]
  },
  {
   "cell_type": "code",
   "execution_count": null,
   "metadata": {},
   "outputs": [],
   "source": [
    "template = \"Name: {0}, height: {1:.2f}\"\n",
    "s = template.format(name, height)\n"
   ]
  },
  {
   "cell_type": "code",
   "execution_count": 8,
   "metadata": {},
   "outputs": [],
   "source": [
    "def get_and_print_rectangle():\n",
    "    width = float(input(\"Enter rectangle's width? \"))\n",
    "    height = float(input(\"Enter rectangle's height? \"))\n",
    "    result = float(height * width)\n",
    "    print('The area of the rectangle is: {0}'.format(result))\n",
    "\n",
    "    "
   ]
  },
  {
   "cell_type": "code",
   "execution_count": 9,
   "metadata": {},
   "outputs": [
    {
     "name": "stdout",
     "output_type": "stream",
     "text": [
      "Enter rectangle's width? 2\n",
      "Enter rectangle's height? 2\n",
      "The area of the rectangle is: 4.0\n"
     ]
    }
   ],
   "source": [
    "get_and_print_rectangle()\n"
   ]
  },
  {
   "cell_type": "code",
   "execution_count": 14,
   "metadata": {},
   "outputs": [],
   "source": [
    "def get_and_print_rectangle():\n",
    "    \"\"\" Input a rectangle's width and height then print its area \"\"\"\n",
    "    width = float(input(\"Rectangle width? \"))\n",
    "    height = float(input(\"Rectangle height? \"))\n",
    "    result = float(height * width)\n",
    "    print('The area of the rectangle is: {0}'.format(result))\n",
    "    \n"
   ]
  },
  {
   "cell_type": "code",
   "execution_count": 15,
   "metadata": {},
   "outputs": [
    {
     "name": "stdout",
     "output_type": "stream",
     "text": [
      "Rectangle width? 10.0\n",
      "Rectangle height? 20.0\n",
      "The area of the rectangle is: 200.0\n"
     ]
    }
   ],
   "source": [
    "get_and_print_rectangle()"
   ]
  },
  {
   "cell_type": "code",
   "execution_count": 28,
   "metadata": {},
   "outputs": [
    {
     "data": {
      "text/plain": [
       "'Welcume tu an intruductiun tu cuding'"
      ]
     },
     "execution_count": 28,
     "metadata": {},
     "output_type": "execute_result"
    }
   ],
   "source": [
    "\"Welcome to an introduction to coding\".replace(\"o\", \"u\")"
   ]
  },
  {
   "cell_type": "code",
   "execution_count": 29,
   "metadata": {},
   "outputs": [
    {
     "data": {
      "text/plain": [
       "'hello'"
      ]
     },
     "execution_count": 29,
     "metadata": {},
     "output_type": "execute_result"
    }
   ],
   "source": [
    "\"Hello\".lower()"
   ]
  },
  {
   "cell_type": "code",
   "execution_count": 30,
   "metadata": {},
   "outputs": [
    {
     "data": {
      "text/plain": [
       "True"
      ]
     },
     "execution_count": 30,
     "metadata": {},
     "output_type": "execute_result"
    }
   ],
   "source": [
    "\"watch out!\".islower()"
   ]
  },
  {
   "cell_type": "code",
   "execution_count": 31,
   "metadata": {},
   "outputs": [
    {
     "data": {
      "text/plain": [
       "True"
      ]
     },
     "execution_count": 31,
     "metadata": {},
     "output_type": "execute_result"
    }
   ],
   "source": [
    "\"Total: $12.35\".startswith(\"Total:\")"
   ]
  },
  {
   "cell_type": "code",
   "execution_count": 32,
   "metadata": {},
   "outputs": [
    {
     "data": {
      "text/plain": [
       "'Excited'"
      ]
     },
     "execution_count": 32,
     "metadata": {},
     "output_type": "execute_result"
    }
   ],
   "source": [
    "\"excited\".capitalize()"
   ]
  },
  {
   "cell_type": "code",
   "execution_count": 33,
   "metadata": {},
   "outputs": [
    {
     "data": {
      "text/plain": [
       "'hAve a gReaT dAy!'"
      ]
     },
     "execution_count": 33,
     "metadata": {},
     "output_type": "execute_result"
    }
   ],
   "source": [
    "\"HaVE A GrEAt DaY!\".swapcase()"
   ]
  },
  {
   "cell_type": "code",
   "execution_count": 48,
   "metadata": {},
   "outputs": [],
   "source": [
    "def say_hi(name):\n",
    "    name = input(\"What is your name? \")\n",
    "    print(name)\n",
    "    correct_name = name.capitalize()\n",
    "    print(\"Hi \" + str(correct_name))\n",
    "    \n",
    "    "
   ]
  },
  {
   "cell_type": "code",
   "execution_count": 49,
   "metadata": {},
   "outputs": [
    {
     "name": "stdout",
     "output_type": "stream",
     "text": [
      "What is your name? FRED\n",
      "FRED\n",
      "Hi Fred\n"
     ]
    }
   ],
   "source": [
    "say_hi(name)"
   ]
  },
  {
   "cell_type": "code",
   "execution_count": 52,
   "metadata": {},
   "outputs": [],
   "source": [
    "def say_hi():\n",
    "    \"\"\"Takes input's name. \"\"\"\n",
    "    name = input(\"What is your name? \")\n",
    "    \n",
    "    correct_name = name.capitalize()\n",
    "    print(\"Hi \" + str(correct_name))"
   ]
  },
  {
   "cell_type": "code",
   "execution_count": 53,
   "metadata": {},
   "outputs": [
    {
     "name": "stdout",
     "output_type": "stream",
     "text": [
      "What is your name? fred\n",
      "Hi Fred\n"
     ]
    }
   ],
   "source": [
    "say_hi()"
   ]
  },
  {
   "cell_type": "code",
   "execution_count": 54,
   "metadata": {},
   "outputs": [
    {
     "name": "stdout",
     "output_type": "stream",
     "text": [
      "Angus McGurkinshaw\n"
     ]
    }
   ],
   "source": [
    "print(\"{0} {1}\".format(\"Angus\", \"McGurkinshaw\"))"
   ]
  },
  {
   "cell_type": "code",
   "execution_count": 55,
   "metadata": {},
   "outputs": [
    {
     "name": "stdout",
     "output_type": "stream",
     "text": [
      "Joe Bloggs (27)\n"
     ]
    }
   ],
   "source": [
    "print(\"{0} {1} ({2})\".format(\"Joe\", \"Bloggs\", 27))"
   ]
  },
  {
   "cell_type": "code",
   "execution_count": 57,
   "metadata": {},
   "outputs": [
    {
     "name": "stdout",
     "output_type": "stream",
     "text": [
      "0.3333333333333333 1.2857142857142858\n",
      "(0.3333333333333333, 1.2857142857142858)\n"
     ]
    }
   ],
   "source": [
    "x = 1/3\n",
    "y = 9/7\n",
    "print(x, y)\n",
    "print(\"({0}, {1})\".format(x, y))"
   ]
  },
  {
   "cell_type": "code",
   "execution_count": 58,
   "metadata": {},
   "outputs": [
    {
     "data": {
      "text/plain": [
       "'y has a value of 1.2857142857142858'"
      ]
     },
     "execution_count": 58,
     "metadata": {},
     "output_type": "execute_result"
    }
   ],
   "source": [
    "template = \"{0} has a value of {1}\"\n",
    "template.format(\"x\", x)\n",
    "template.format(\"y\", y)"
   ]
  },
  {
   "cell_type": "code",
   "execution_count": 59,
   "metadata": {},
   "outputs": [
    {
     "data": {
      "text/plain": [
       "'(0.3333333333333333, 1.2857142857142858) has an x value of 0.3333333333333333'"
      ]
     },
     "execution_count": 59,
     "metadata": {},
     "output_type": "execute_result"
    }
   ],
   "source": [
    "\"({0}, {1}) has an x value of {0}\".format(x, y)"
   ]
  },
  {
   "cell_type": "code",
   "execution_count": 60,
   "metadata": {},
   "outputs": [
    {
     "data": {
      "text/plain": [
       "'(0.3333333333333333, 1.2857142857142858) has an x value of 0.3333333333333333'"
      ]
     },
     "execution_count": 60,
     "metadata": {},
     "output_type": "execute_result"
    }
   ],
   "source": [
    "\"(\" + str(x) + \", \" + str(y) + \") has an x value of \" + str(x)"
   ]
  },
  {
   "cell_type": "code",
   "execution_count": 64,
   "metadata": {},
   "outputs": [
    {
     "name": "stdout",
     "output_type": "stream",
     "text": [
      "width = 112.3, height = 32.3\n"
     ]
    }
   ],
   "source": [
    "width = 112.341\n",
    "height = 32.347\n",
    "print('width = {0:.1f}, height = {1:.1f}'.format(width, height))"
   ]
  },
  {
   "cell_type": "code",
   "execution_count": null,
   "metadata": {},
   "outputs": [],
   "source": [
    "width = 112.3, height = 32.3"
   ]
  },
  {
   "cell_type": "code",
   "execution_count": 66,
   "metadata": {},
   "outputs": [
    {
     "name": "stdout",
     "output_type": "stream",
     "text": [
      "width = 112.3, height = 32.3\n"
     ]
    }
   ],
   "source": [
    "print('width = {0:.1f}, height = {1:.1f}'.format(width, height))"
   ]
  },
  {
   "cell_type": "code",
   "execution_count": 76,
   "metadata": {},
   "outputs": [
    {
     "name": "stdout",
     "output_type": "stream",
     "text": [
      "Average is 100 over 3 or 33.33\n"
     ]
    }
   ],
   "source": [
    "total = 100\n",
    "count = 3\n",
    "average = total/count\n",
    "output = 'Average is {0} over {1} or {2:.2f}'.format(total, count, average)\n",
    "print(output)"
   ]
  },
  {
   "cell_type": "code",
   "execution_count": null,
   "metadata": {},
   "outputs": [],
   "source": [
    "\n"
   ]
  },
  {
   "cell_type": "code",
   "execution_count": 77,
   "metadata": {},
   "outputs": [
    {
     "name": "stdout",
     "output_type": "stream",
     "text": [
      "Average is 100 over 3 or 33.33\n"
     ]
    }
   ],
   "source": [
    "total = 100\n",
    "count = 3\n",
    "average = total/count\n",
    "output = 'Average is {0} over {1} or {2:.2f}'.format(total, count, average)\n",
    "print(output)"
   ]
  },
  {
   "cell_type": "code",
   "execution_count": 25,
   "metadata": {},
   "outputs": [],
   "source": [
    "def print_pair(x_coord, y_coord):\n",
    "    a = \"[x,y] = [{0:.1f},{1:.1f}]\"\n",
    "    print(a.format(x_coord, y_coord ))\n",
    "    "
   ]
  },
  {
   "cell_type": "code",
   "execution_count": null,
   "metadata": {},
   "outputs": [],
   "source": [
    "print_pair(1.72356, -22.1111)"
   ]
  },
  {
   "cell_type": "code",
   "execution_count": null,
   "metadata": {},
   "outputs": [],
   "source": [
    "print_pair(1.72356, -22.1111)\n",
    "[x,y] = [1.7,-22.1]"
   ]
  },
  {
   "cell_type": "code",
   "execution_count": null,
   "metadata": {},
   "outputs": [],
   "source": [
    "def print_pair(x_coord, y_coord):\n",
    "    \"\"\"takes two floating point coordinates and prints a string.\"\"\"\n",
    "    pair = \"[x,y] = [{0:.1f},{1:.1f}]\"\n",
    "    print(pair.format(x_coord, y_coord))"
   ]
  },
  {
   "cell_type": "code",
   "execution_count": null,
   "metadata": {},
   "outputs": [],
   "source": [
    "print_pair(1.72356, -22.1111)"
   ]
  },
  {
   "cell_type": "code",
   "execution_count": null,
   "metadata": {},
   "outputs": [],
   "source": []
  }
 ],
 "metadata": {
  "kernelspec": {
   "display_name": "Python 3",
   "language": "python",
   "name": "python3"
  },
  "language_info": {
   "codemirror_mode": {
    "name": "ipython",
    "version": 3
   },
   "file_extension": ".py",
   "mimetype": "text/x-python",
   "name": "python",
   "nbconvert_exporter": "python",
   "pygments_lexer": "ipython3",
   "version": "3.7.4"
  }
 },
 "nbformat": 4,
 "nbformat_minor": 2
}
